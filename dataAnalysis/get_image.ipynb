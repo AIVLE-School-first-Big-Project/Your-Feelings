{
 "cells": [
  {
   "cell_type": "code",
   "execution_count": 1,
   "metadata": {},
   "outputs": [],
   "source": [
    "import requests, os\n",
    "\n",
    "## PIXBAY API 이용\n",
    "# API를 사용하는것에 있어, 강제성은 없으나 출처를 표시하는것을 권장\n",
    "APP_KEY = \"################\"\n",
    "BASE_URL = \"https://pixabay.com/api/\""
   ]
  },
  {
   "cell_type": "markdown",
   "metadata": {},
   "source": [
    "### 감정 이미지\n",
    "- 필요성: 추억 돌아보기 페이지에서 감정별 이미지를 보여주며 추억을 요약해주기 위해 감정 이미지 수집"
   ]
  },
  {
   "cell_type": "code",
   "execution_count": 6,
   "metadata": {},
   "outputs": [],
   "source": [
    "# 수집하고자 하는 감정, 페이지 번호, 페이지 당 이미지 수, 이미지 타입 지정\n",
    "def get_image(feelings='smile', page=1, per_page=100, image_type='photo'):\n",
    "    # Pixabey에서 해당 이미지 수집\n",
    "    safesearch = True\n",
    "    search_url = BASE_URL+f\"?key={APP_KEY}&q={feelings}&page={page}&per_page={per_page}\\\n",
    "                &image_type={image_type}&safesearch={safesearch}\"\n",
    "    response = requests.get(search_url)\n",
    "\n",
    "    if response.status_code == 200: # 정상 작동\n",
    "        imgs = response.json()['hits']\n",
    "        for i in range(len(imgs)):\n",
    "            os.system(\"curl \" + imgs[i]['webformatURL'] + f\" > img/{feelings}_{i+1}.jpg\") # 저장\n",
    "        print(\"Save Complete\")\n",
    "    else:\n",
    "        print(f\"Status code: {response.status_code}\")"
   ]
  },
  {
   "cell_type": "code",
   "execution_count": 7,
   "metadata": {},
   "outputs": [
    {
     "name": "stdout",
     "output_type": "stream",
     "text": [
      "Save Complete\n",
      "Save Complete\n",
      "Save Complete\n",
      "Save Complete\n",
      "Save Complete\n"
     ]
    }
   ],
   "source": [
    "for feelings in ['smile', 'sad', 'angry', 'fear', 'anxious']:\n",
    "    get_image(feelings=feelings, per_page=100, image_type='photo')"
   ]
  },
  {
   "cell_type": "code",
   "execution_count": null,
   "metadata": {},
   "outputs": [],
   "source": []
  }
 ],
 "metadata": {
  "interpreter": {
   "hash": "8fac594bfae6525c0c41b4041d2d72effa188cc8ead05f81b1fab2bb098927fb"
  },
  "kernelspec": {
   "display_name": "Python 3.8.8 ('base')",
   "language": "python",
   "name": "python3"
  },
  "language_info": {
   "codemirror_mode": {
    "name": "ipython",
    "version": 3
   },
   "file_extension": ".py",
   "mimetype": "text/x-python",
   "name": "python",
   "nbconvert_exporter": "python",
   "pygments_lexer": "ipython3",
   "version": "3.8.8"
  },
  "orig_nbformat": 4
 },
 "nbformat": 4,
 "nbformat_minor": 2
}
