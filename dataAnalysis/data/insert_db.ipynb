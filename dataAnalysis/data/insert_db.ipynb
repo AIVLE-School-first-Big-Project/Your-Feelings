{
 "cells": [
  {
   "cell_type": "code",
   "execution_count": 22,
   "metadata": {},
   "outputs": [],
   "source": [
    "import pandas as pd\n",
    "import requests\n",
    "import json\n",
    "\n",
    "KOBERT_URL = 'http://3.35.8.82:5000/kobert?text='\n",
    "BERT_URL = 'http://3.35.8.82:5000/bert?text='"
   ]
  },
  {
   "cell_type": "code",
   "execution_count": 23,
   "metadata": {},
   "outputs": [],
   "source": [
    "movie = pd.read_csv('movie_datasets.csv')\n",
    "movie2 = pd.read_csv('af_kmdb.csv')\n",
    "book = pd.read_csv('book_datasets.csv')\n",
    "book2 = pd.read_csv('naver_books.csv')\n",
    "music = pd.read_csv('music_datasets.csv')\n",
    "music2 = pd.read_csv('music_datasets_4000.csv')\n"
   ]
  },
  {
   "cell_type": "code",
   "execution_count": 30,
   "metadata": {},
   "outputs": [
    {
     "data": {
      "text/plain": [
       "\"{'공포': 0.0702, '기쁨': 0.0297, '놀람': 0.0528, '분노': 0.1024, '슬픔': 0.1518, '중립': 0.7047, '혐오': 0.0374}\""
      ]
     },
     "execution_count": 30,
     "metadata": {},
     "output_type": "execute_result"
    }
   ],
   "source": [
    "music['emotions'][0]"
   ]
  },
  {
   "cell_type": "code",
   "execution_count": 13,
   "metadata": {},
   "outputs": [],
   "source": [
    "def getEmotionsFromAPI(model='kobert', text=''):\n",
    "    url = KOBERT_URL if model=='kobert' else BERT_URL\n",
    "    res = requests.get(url + text).text\n",
    "    return json.loads(res)\n",
    "\n",
    "def getDistance(user_emo, media_emo):\n",
    "    total = 0\n",
    "    for key in user_emo.keys():\n",
    "        n1 = user_emo[key]\n",
    "        n2 = media_emo[key]\n",
    "        total += (n1-n2)**2\n",
    "    return total"
   ]
  },
  {
   "cell_type": "code",
   "execution_count": 14,
   "metadata": {},
   "outputs": [],
   "source": [
    "from tqdm.notebook import tqdm\n",
    "def getSeries(series, model='kobert'):\n",
    "    tmp = []\n",
    "    for row in tqdm(series):\n",
    "        tmp.append(getEmotionsFromAPI(model=model, text=row))\n",
    "    print('len:', len(tmp))\n",
    "    return pd.Series(tmp)\n",
    "# book['emotions'] = book['description'].apply(lambda x:getEmotionsFromAPI('kobert', x))\n",
    "    "
   ]
  },
  {
   "cell_type": "code",
   "execution_count": 31,
   "metadata": {},
   "outputs": [
    {
     "data": {
      "application/vnd.jupyter.widget-view+json": {
       "model_id": "a1d3b56aa77448d1ad8583f87f85c2c5",
       "version_major": 2,
       "version_minor": 0
      },
      "text/plain": [
       "  0%|          | 0/1306 [00:00<?, ?it/s]"
      ]
     },
     "metadata": {},
     "output_type": "display_data"
    },
    {
     "name": "stdout",
     "output_type": "stream",
     "text": [
      "len: 1306\n"
     ]
    }
   ],
   "source": [
    "# book['emotions'] = getSeries(book['description'], 'kobert')\n",
    "music['emotions'] = getSeries(music['new_lyrics'], 'bert')\n",
    "# movie['emotions'] = getSeries(movie['content'], 'kobert')"
   ]
  },
  {
   "cell_type": "code",
   "execution_count": 32,
   "metadata": {},
   "outputs": [],
   "source": [
    "movie.to_csv('movie_datasets.csv', index=False)\n",
    "book.to_csv('book_datasets.csv', index=False)\n",
    "music.to_csv('music_datasets.csv', index=False)"
   ]
  },
  {
   "cell_type": "code",
   "execution_count": null,
   "metadata": {},
   "outputs": [
    {
     "name": "stdout",
     "output_type": "stream",
     "text": [
      "에브리씽 유브 갓 하우 두 유 노우?\n",
      "소프트볼,국가대표,탈락,투수,중역,회계,부정,누명\n",
      "{'공포': 0.0029, '놀람': 0.0111, '분노': 0.1089, '슬픔': 0.04, '중립': 0.0386, '행복': 0.003, '혐오': 0.7956}\n"
     ]
    }
   ],
   "source": [
    "print(movie['title'][0])\n",
    "row = movie['content'][0]\n",
    "print(row)\n",
    "print(getEmotionsFromAPI('kobert', row))"
   ]
  },
  {
   "cell_type": "code",
   "execution_count": null,
   "metadata": {},
   "outputs": [],
   "source": []
  }
 ],
 "metadata": {
  "interpreter": {
   "hash": "96ceae59215747f46501d60b2f55c33e0151eff823d3b240f46f85637c1f128d"
  },
  "kernelspec": {
   "display_name": "Python 3.9.7 ('base')",
   "language": "python",
   "name": "python3"
  },
  "language_info": {
   "codemirror_mode": {
    "name": "ipython",
    "version": 3
   },
   "file_extension": ".py",
   "mimetype": "text/x-python",
   "name": "python",
   "nbconvert_exporter": "python",
   "pygments_lexer": "ipython3",
   "version": "3.9.7"
  },
  "orig_nbformat": 4
 },
 "nbformat": 4,
 "nbformat_minor": 2
}
