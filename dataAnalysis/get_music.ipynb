{
 "cells": [
  {
   "cell_type": "code",
   "execution_count": null,
   "metadata": {},
   "outputs": [],
   "source": [
    "# !pip install lyricsgenius"
   ]
  },
  {
   "cell_type": "markdown",
   "metadata": {},
   "source": [
    "### 데이터 수집"
   ]
  },
  {
   "cell_type": "code",
   "execution_count": 1,
   "metadata": {},
   "outputs": [],
   "source": [
    "import lyricsgenius as lg\n",
    "import re\n",
    "import pandas as pd\n",
    "import json\n",
    "import numpy as np"
   ]
  },
  {
   "cell_type": "code",
   "execution_count": null,
   "metadata": {},
   "outputs": [],
   "source": [
    "TOKEN = \"#####################################\"\n",
    "\n",
    "genius = lg.Genius(TOKEN, timeout=20, sleep_time=10) \n",
    "\n",
    "# timeout 문제 해결: timeout, sleep_time 늘리기\n",
    "# https://github.com/johnwmillr/LyricsGenius/issues/121#issuecomment-704448192\n",
    "\n",
    "end_page = 5\n",
    "song_dataset = {\"artists\":[], \"featured_artists\":[], \"title\":[], \"genre\":[], \"lyrics\":[], 'url':[]}\n",
    "\n",
    "tags = ['rap', 'pop', 'r-b', 'rock', 'country', 'k-hip-hop', 'k-r-b', 'k-rock', 'k-ballad',\n",
    "        'k-pop', 'acoustic', 'comedy', 'dance', 'disco', 'disney', 'jazz', 'soul']\n",
    "\n",
    "for tag_name in tags:\n",
    "    print(\"<\",tag_name,\">\")\n",
    "\n",
    "    for page in range(1, end_page+1):\n",
    "        res = genius.tag(tag_name, page=page) # 장르와 page에 맞춰 데이터 수집 - 1페이지 당 최대 20개 곡\n",
    "        i = (20*(page-1)) + 1\n",
    "\n",
    "        for hit in res['hits']: # 한 곡씩\n",
    "            song_dataset['artists'].append(hit['artists']) # 가수\n",
    "            song_dataset['title'].append(hit['title']) # 제목\n",
    "            song_dataset['featured_artists'].append(hit['featured_artists']) # 피처링\n",
    "\n",
    "            if tag_name in ['k-hip-hop', 'k-r-b', 'k-rock', 'k-ballad']: # 한국 노래 장르 이름 수정(k- 제거)\n",
    "                tag_name = tag_name[2:]\n",
    "            song_dataset['genre'].append(tag_name) # 장르\n",
    "\n",
    "            song_dataset['url'].append(hit['url']) # genius url\n",
    "\n",
    "            song_lyrics = genius.lyrics(song_url=hit['url']) # url에서 가사 수집\n",
    "\n",
    "            song_dataset['lyrics'].append(song_lyrics)\n",
    "\n",
    "            print(i, end = \" \")\n",
    "            i+=1\n",
    "        #page = res['next_page']\n",
    "    print()"
   ]
  },
  {
   "cell_type": "markdown",
   "metadata": {},
   "source": [
    "### 데이터 전처리"
   ]
  },
  {
   "cell_type": "code",
   "execution_count": 15,
   "metadata": {},
   "outputs": [
    {
     "data": {
      "text/html": [
       "<div>\n",
       "<style scoped>\n",
       "    .dataframe tbody tr th:only-of-type {\n",
       "        vertical-align: middle;\n",
       "    }\n",
       "\n",
       "    .dataframe tbody tr th {\n",
       "        vertical-align: top;\n",
       "    }\n",
       "\n",
       "    .dataframe thead th {\n",
       "        text-align: right;\n",
       "    }\n",
       "</style>\n",
       "<table border=\"1\" class=\"dataframe\">\n",
       "  <thead>\n",
       "    <tr style=\"text-align: right;\">\n",
       "      <th></th>\n",
       "      <th>artists</th>\n",
       "      <th>featured_artists</th>\n",
       "      <th>title</th>\n",
       "      <th>genre</th>\n",
       "      <th>lyrics</th>\n",
       "      <th>url</th>\n",
       "    </tr>\n",
       "  </thead>\n",
       "  <tbody>\n",
       "    <tr>\n",
       "      <th>0</th>\n",
       "      <td>[Eminem]</td>\n",
       "      <td>[]</td>\n",
       "      <td>Rap God</td>\n",
       "      <td>rap</td>\n",
       "      <td>Rap God Lyrics[Intro]\\n\"Look, I was gonna go e...</td>\n",
       "      <td>https://genius.com/Eminem-rap-god-lyrics</td>\n",
       "    </tr>\n",
       "    <tr>\n",
       "      <th>1</th>\n",
       "      <td>[Cardi B]</td>\n",
       "      <td>[Megan Thee Stallion]</td>\n",
       "      <td>WAP</td>\n",
       "      <td>rap</td>\n",
       "      <td>WAP Lyrics[Intro: Cardi B, Al \"T\" McLaran &amp; Me...</td>\n",
       "      <td>https://genius.com/Cardi-b-wap-lyrics</td>\n",
       "    </tr>\n",
       "    <tr>\n",
       "      <th>2</th>\n",
       "      <td>[Kendrick Lamar]</td>\n",
       "      <td>[]</td>\n",
       "      <td>HUMBLE.</td>\n",
       "      <td>rap</td>\n",
       "      <td>HUMBLE. Lyrics[Intro]\\nNobody pray for me\\nIt ...</td>\n",
       "      <td>https://genius.com/Kendrick-lamar-humble-lyrics</td>\n",
       "    </tr>\n",
       "    <tr>\n",
       "      <th>3</th>\n",
       "      <td>[Migos]</td>\n",
       "      <td>[Lil Uzi Vert]</td>\n",
       "      <td>Bad and Boujee</td>\n",
       "      <td>rap</td>\n",
       "      <td>Bad and Boujee Lyrics[Intro: Offset &amp; Future]\\...</td>\n",
       "      <td>https://genius.com/Migos-bad-and-boujee-lyrics</td>\n",
       "    </tr>\n",
       "    <tr>\n",
       "      <th>4</th>\n",
       "      <td>[Drake]</td>\n",
       "      <td>[]</td>\n",
       "      <td>God's Plan</td>\n",
       "      <td>rap</td>\n",
       "      <td>God’s Plan Lyrics[Intro]\\nAnd they wishin' and...</td>\n",
       "      <td>https://genius.com/Drake-gods-plan-lyrics</td>\n",
       "    </tr>\n",
       "  </tbody>\n",
       "</table>\n",
       "</div>"
      ],
      "text/plain": [
       "            artists       featured_artists           title genre  \\\n",
       "0          [Eminem]                     []         Rap God   rap   \n",
       "1         [Cardi B]  [Megan Thee Stallion]             WAP   rap   \n",
       "2  [Kendrick Lamar]                     []         HUMBLE.   rap   \n",
       "3           [Migos]         [Lil Uzi Vert]  Bad and Boujee   rap   \n",
       "4           [Drake]                     []      God's Plan   rap   \n",
       "\n",
       "                                              lyrics  \\\n",
       "0  Rap God Lyrics[Intro]\\n\"Look, I was gonna go e...   \n",
       "1  WAP Lyrics[Intro: Cardi B, Al \"T\" McLaran & Me...   \n",
       "2  HUMBLE. Lyrics[Intro]\\nNobody pray for me\\nIt ...   \n",
       "3  Bad and Boujee Lyrics[Intro: Offset & Future]\\...   \n",
       "4  God’s Plan Lyrics[Intro]\\nAnd they wishin' and...   \n",
       "\n",
       "                                               url  \n",
       "0         https://genius.com/Eminem-rap-god-lyrics  \n",
       "1            https://genius.com/Cardi-b-wap-lyrics  \n",
       "2  https://genius.com/Kendrick-lamar-humble-lyrics  \n",
       "3   https://genius.com/Migos-bad-and-boujee-lyrics  \n",
       "4        https://genius.com/Drake-gods-plan-lyrics  "
      ]
     },
     "execution_count": 15,
     "metadata": {},
     "output_type": "execute_result"
    }
   ],
   "source": [
    "song_df = pd.DataFrame(song_dataset)\n",
    "song_df.head()"
   ]
  },
  {
   "cell_type": "code",
   "execution_count": null,
   "metadata": {},
   "outputs": [],
   "source": [
    "# 전처리 전 데이터 저장: csv, json 형태\n",
    "song_df.to_csv(\"data/bf_preprocessing.csv\", index=False)\n",
    "\n",
    "with open(\"data/bf_preprocessing.json\", 'w') as file:\n",
    "    json.dump(song_dataset, file)"
   ]
  },
  {
   "cell_type": "code",
   "execution_count": 24,
   "metadata": {},
   "outputs": [
    {
     "data": {
      "text/html": [
       "<div>\n",
       "<style scoped>\n",
       "    .dataframe tbody tr th:only-of-type {\n",
       "        vertical-align: middle;\n",
       "    }\n",
       "\n",
       "    .dataframe tbody tr th {\n",
       "        vertical-align: top;\n",
       "    }\n",
       "\n",
       "    .dataframe thead th {\n",
       "        text-align: right;\n",
       "    }\n",
       "</style>\n",
       "<table border=\"1\" class=\"dataframe\">\n",
       "  <thead>\n",
       "    <tr style=\"text-align: right;\">\n",
       "      <th></th>\n",
       "      <th>artists</th>\n",
       "      <th>featured_artists</th>\n",
       "      <th>title</th>\n",
       "      <th>genre</th>\n",
       "      <th>lyrics</th>\n",
       "      <th>url</th>\n",
       "    </tr>\n",
       "  </thead>\n",
       "  <tbody>\n",
       "    <tr>\n",
       "      <th>0</th>\n",
       "      <td>[Eminem]</td>\n",
       "      <td>[]</td>\n",
       "      <td>Rap God</td>\n",
       "      <td>rap</td>\n",
       "      <td>Rap God Lyrics[Intro]\\n\"Look, I was gonna go e...</td>\n",
       "      <td>https://genius.com/Eminem-rap-god-lyrics</td>\n",
       "    </tr>\n",
       "    <tr>\n",
       "      <th>1</th>\n",
       "      <td>[Cardi B]</td>\n",
       "      <td>[Megan Thee Stallion]</td>\n",
       "      <td>WAP</td>\n",
       "      <td>rap</td>\n",
       "      <td>WAP Lyrics[Intro: Cardi B, Al \"T\" McLaran &amp; Me...</td>\n",
       "      <td>https://genius.com/Cardi-b-wap-lyrics</td>\n",
       "    </tr>\n",
       "    <tr>\n",
       "      <th>2</th>\n",
       "      <td>[Kendrick Lamar]</td>\n",
       "      <td>[]</td>\n",
       "      <td>HUMBLE.</td>\n",
       "      <td>rap</td>\n",
       "      <td>HUMBLE. Lyrics[Intro]\\nNobody pray for me\\nIt ...</td>\n",
       "      <td>https://genius.com/Kendrick-lamar-humble-lyrics</td>\n",
       "    </tr>\n",
       "    <tr>\n",
       "      <th>3</th>\n",
       "      <td>[Migos]</td>\n",
       "      <td>[Lil Uzi Vert]</td>\n",
       "      <td>Bad and Boujee</td>\n",
       "      <td>rap</td>\n",
       "      <td>Bad and Boujee Lyrics[Intro: Offset &amp; Future]\\...</td>\n",
       "      <td>https://genius.com/Migos-bad-and-boujee-lyrics</td>\n",
       "    </tr>\n",
       "    <tr>\n",
       "      <th>4</th>\n",
       "      <td>[Drake]</td>\n",
       "      <td>[]</td>\n",
       "      <td>God's Plan</td>\n",
       "      <td>rap</td>\n",
       "      <td>God’s Plan Lyrics[Intro]\\nAnd they wishin' and...</td>\n",
       "      <td>https://genius.com/Drake-gods-plan-lyrics</td>\n",
       "    </tr>\n",
       "  </tbody>\n",
       "</table>\n",
       "</div>"
      ],
      "text/plain": [
       "            artists       featured_artists           title genre  \\\n",
       "0          [Eminem]                     []         Rap God   rap   \n",
       "1         [Cardi B]  [Megan Thee Stallion]             WAP   rap   \n",
       "2  [Kendrick Lamar]                     []         HUMBLE.   rap   \n",
       "3           [Migos]         [Lil Uzi Vert]  Bad and Boujee   rap   \n",
       "4           [Drake]                     []      God's Plan   rap   \n",
       "\n",
       "                                              lyrics  \\\n",
       "0  Rap God Lyrics[Intro]\\n\"Look, I was gonna go e...   \n",
       "1  WAP Lyrics[Intro: Cardi B, Al \"T\" McLaran & Me...   \n",
       "2  HUMBLE. Lyrics[Intro]\\nNobody pray for me\\nIt ...   \n",
       "3  Bad and Boujee Lyrics[Intro: Offset & Future]\\...   \n",
       "4  God’s Plan Lyrics[Intro]\\nAnd they wishin' and...   \n",
       "\n",
       "                                               url  \n",
       "0         https://genius.com/Eminem-rap-god-lyrics  \n",
       "1            https://genius.com/Cardi-b-wap-lyrics  \n",
       "2  https://genius.com/Kendrick-lamar-humble-lyrics  \n",
       "3   https://genius.com/Migos-bad-and-boujee-lyrics  \n",
       "4        https://genius.com/Drake-gods-plan-lyrics  "
      ]
     },
     "execution_count": 24,
     "metadata": {},
     "output_type": "execute_result"
    }
   ],
   "source": [
    "song_df.head()"
   ]
  },
  {
   "cell_type": "code",
   "execution_count": null,
   "metadata": {},
   "outputs": [],
   "source": [
    "# 리스트 형식의 artists 데이터 변환\n",
    "song_df['artists'] = song_df['artists'].apply(lambda x: ','.join(x) if len(x) else x)"
   ]
  },
  {
   "cell_type": "code",
   "execution_count": null,
   "metadata": {},
   "outputs": [],
   "source": [
    "# 리스트 형식의  featured_artists 데이터 변환\n",
    "song_df['featured_artists'] = song_df['featured_artists'].apply(lambda x: np.nan if x == [] else x)\n",
    "song_df['featured_artists'] = song_df['featured_artists'].apply(lambda x: ','.join(x) if (type(x) == list and len(x)) else x)"
   ]
  },
  {
   "cell_type": "code",
   "execution_count": null,
   "metadata": {},
   "outputs": [],
   "source": [
    "## 노이즈 제거\n",
    "song_df['new_lyrics'] = song_df['lyrics'].apply(lambda x: re.sub(r'\\[.*\\]*', \"\", x)) # 노래 흐름([코러스1], [벌스1], ...) 표기 제거\n",
    "\n",
    "song_df['new_lyrics'] = song_df['new_lyrics'].apply(lambda x: re.sub(\"\\u205f\", \" \", x))\n",
    "song_df['new_lyrics'] = song_df['new_lyrics'].apply(lambda x: re.sub(r'[0-9]\\.[0-9][a-zA-z]+Embed$', \"\", x)) # 가사 끝에 가사와 관련 없는 부분 제거 - 경우1\n",
    "song_df['new_lyrics'] = song_df['new_lyrics'].apply(lambda x: re.sub(r'[0-9]+Embed$', \"\", x)) # 가사 끝에 가사와 관련 없는 부분 제거 - 경우2\n",
    "\n",
    "# 제목+가사의 시작임을 알리는 가사 외 부분 제거\n",
    "song_df['new_lyrics'] = song_df[['title', 'new_lyrics']].apply(lambda x: re.sub(f\"^{x['title']} Lyrics\\n\", \"\", x['new_lyrics']), axis=1)\n",
    "\n",
    "song_df['new_lyrics'] = song_df['new_lyrics'].apply(lambda x: re.sub('\\n', \". \", x)) # 줄 바꿈은 space로 변경"
   ]
  },
  {
   "cell_type": "code",
   "execution_count": null,
   "metadata": {},
   "outputs": [],
   "source": [
    "song_df.to_csv(\"data/music_datasets.csv\", index=False)"
   ]
  },
  {
   "cell_type": "code",
   "execution_count": null,
   "metadata": {},
   "outputs": [],
   "source": []
  }
 ],
 "metadata": {
  "interpreter": {
   "hash": "8fac594bfae6525c0c41b4041d2d72effa188cc8ead05f81b1fab2bb098927fb"
  },
  "kernelspec": {
   "display_name": "Python 3 (ipykernel)",
   "language": "python",
   "name": "python3"
  },
  "language_info": {
   "codemirror_mode": {
    "name": "ipython",
    "version": 3
   },
   "file_extension": ".py",
   "mimetype": "text/x-python",
   "name": "python",
   "nbconvert_exporter": "python",
   "pygments_lexer": "ipython3",
   "version": "3.8.8"
  }
 },
 "nbformat": 4,
 "nbformat_minor": 2
}
